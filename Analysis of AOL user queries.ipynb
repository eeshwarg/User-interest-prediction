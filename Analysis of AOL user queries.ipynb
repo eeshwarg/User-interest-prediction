{
 "cells": [
  {
   "cell_type": "markdown",
   "metadata": {},
   "source": [
    "# Data analysis on AOL user queries log\n",
    "\n",
    "In this project, we will be studying the publicly released dataset of user search queries released by AOL for research purposes. We will seek to understand underlying patterns and statistics, and also seek to find out the interests of a user based on their searches.\n",
    "\n",
    "## 1. Load and preprocess the data\n",
    "\n",
    "The first step is to load the data. Our dataset consists of ten files named `user-ct-test-collection-01.txt` and so on, located in the folder `Dataset`. We will be using pandas to load them into Dataframes.\n",
    "The dataset contains five columns - _AnonID_, _Query_, _QueryTime_, _ItemRank_ and _ClickURL_. _AnonID_ is the anonymised ID of the user which performed the _Query_. _QueryTime_ is simply the timestamp of when it was executed. _ItemRank_ is the rank of the URL which was clicked upon, _ClickURL_, among the search results provided by the AOL search engine. \n",
    "\n",
    "For the purposes of our project, _ClickURL_ poses no significant information, so we will be dropping this field. Also, it was noted that there existed plenty of blank ('-') queries in the dataset. The corresponding rows have been removed as well."
   ]
  },
  {
   "cell_type": "code",
   "execution_count": 1,
   "metadata": {},
   "outputs": [],
   "source": [
    "import pandas as pd\n",
    "import numpy as np\n",
    "from matplotlib import pyplot as plt\n",
    "\n",
    "from processInput import readFile, readDataset"
   ]
  },
  {
   "cell_type": "code",
   "execution_count": 2,
   "metadata": {},
   "outputs": [
    {
     "data": {
      "text/html": [
       "<div>\n",
       "<style scoped>\n",
       "    .dataframe tbody tr th:only-of-type {\n",
       "        vertical-align: middle;\n",
       "    }\n",
       "\n",
       "    .dataframe tbody tr th {\n",
       "        vertical-align: top;\n",
       "    }\n",
       "\n",
       "    .dataframe thead th {\n",
       "        text-align: right;\n",
       "    }\n",
       "</style>\n",
       "<table border=\"1\" class=\"dataframe\">\n",
       "  <thead>\n",
       "    <tr style=\"text-align: right;\">\n",
       "      <th></th>\n",
       "      <th>AnonID</th>\n",
       "      <th>Query</th>\n",
       "      <th>QueryTime</th>\n",
       "      <th>ItemRank</th>\n",
       "    </tr>\n",
       "  </thead>\n",
       "  <tbody>\n",
       "    <tr>\n",
       "      <th>0</th>\n",
       "      <td>142</td>\n",
       "      <td>rentdirect.com</td>\n",
       "      <td>2006-03-01 07:17:12</td>\n",
       "      <td>NaN</td>\n",
       "    </tr>\n",
       "    <tr>\n",
       "      <th>1</th>\n",
       "      <td>142</td>\n",
       "      <td>www.prescriptionfortime.com</td>\n",
       "      <td>2006-03-12 12:31:06</td>\n",
       "      <td>NaN</td>\n",
       "    </tr>\n",
       "    <tr>\n",
       "      <th>2</th>\n",
       "      <td>142</td>\n",
       "      <td>staple.com</td>\n",
       "      <td>2006-03-17 21:19:29</td>\n",
       "      <td>NaN</td>\n",
       "    </tr>\n",
       "    <tr>\n",
       "      <th>3</th>\n",
       "      <td>142</td>\n",
       "      <td>staple.com</td>\n",
       "      <td>2006-03-17 21:19:45</td>\n",
       "      <td>NaN</td>\n",
       "    </tr>\n",
       "    <tr>\n",
       "      <th>4</th>\n",
       "      <td>142</td>\n",
       "      <td>www.newyorklawyersite.com</td>\n",
       "      <td>2006-03-18 08:02:58</td>\n",
       "      <td>NaN</td>\n",
       "    </tr>\n",
       "  </tbody>\n",
       "</table>\n",
       "</div>"
      ],
      "text/plain": [
       "   AnonID                        Query           QueryTime  ItemRank\n",
       "0     142               rentdirect.com 2006-03-01 07:17:12       NaN\n",
       "1     142  www.prescriptionfortime.com 2006-03-12 12:31:06       NaN\n",
       "2     142                   staple.com 2006-03-17 21:19:29       NaN\n",
       "3     142                   staple.com 2006-03-17 21:19:45       NaN\n",
       "4     142    www.newyorklawyersite.com 2006-03-18 08:02:58       NaN"
      ]
     },
     "execution_count": 2,
     "metadata": {},
     "output_type": "execute_result"
    }
   ],
   "source": [
    "ds = readFile('../Dataset/user-ct-test-collection-01.txt')\n",
    "ds = ds[ds['Query']!='-']\n",
    "ds.head()"
   ]
  },
  {
   "cell_type": "code",
   "execution_count": 3,
   "metadata": {},
   "outputs": [
    {
     "name": "stdout",
     "output_type": "stream",
     "text": [
      "AnonID                int64\n",
      "Query                object\n",
      "QueryTime    datetime64[ns]\n",
      "ItemRank            float64\n",
      "dtype: object\n"
     ]
    }
   ],
   "source": [
    "print ds.dtypes"
   ]
  },
  {
   "cell_type": "markdown",
   "metadata": {},
   "source": [
    "## 2. Analyse the data\n",
    "\n",
    "After having loaded the data, we move forward to unearthing interesting patterns and information present in the data.\n",
    "\n",
    "### Peak Traffic Hours\n",
    "\n",
    "It would be useful to know when the website faced the most traffic, i.e. when an arbitrary user was most likely to generate a search request. "
   ]
  },
  {
   "cell_type": "code",
   "execution_count": 4,
   "metadata": {},
   "outputs": [
    {
     "data": {
      "image/png": "[encoded data removed]",
      "text/plain": [
       "<matplotlib.figure.Figure at 0x7f49601ed610>"
      ]
     },
     "metadata": {},
     "output_type": "display_data"
    }
   ],
   "source": [
    "hourData = ds['QueryTime'].dt.hour\n",
    "hist = hourData.value_counts()\n",
    "hist = hist.sort_index()\n",
    "hist.plot()\n",
    "plt.ylabel('Number of queries')\n",
    "plt.xlabel('Time of the day (in 24h format)')\n",
    "plt.annotate('9pm shows the highest traffic', xy=(21, hist[21]), xytext=(21, 300000), arrowprops=dict(facecolor='black', shrink=0.01))\n",
    "plt.show()"
   ]
  },
  {
   "cell_type": "markdown",
   "metadata": {},
   "source": [
    "From the above chart, it is clear that 9pm - 10pm shows the peak usage whereas 4am - 5am shows the least."
   ]
  },
  {
   "cell_type": "markdown",
   "metadata": {},
   "source": [
    "### Average ItemRank\n",
    "\n",
    "To judge the efficacy of AOL as a search engine, the quality of results displayed first is studied. We posit that if a user clicked on a link, then it possessed good quality, or was relevant. Then, the lower the _ItemRank_, the better AOL served its user. By calculating the average ItemRank, we can make an assessment on AOL's performance."
   ]
  },
  {
   "cell_type": "code",
   "execution_count": 5,
   "metadata": {},
   "outputs": [
    {
     "data": {
      "text/plain": [
       "count    1.860538e+06\n",
       "mean     6.779084e+00\n",
       "std      1.956991e+01\n",
       "min      0.000000e+00\n",
       "25%      1.000000e+00\n",
       "50%      2.000000e+00\n",
       "75%      6.000000e+00\n",
       "max      5.000000e+02\n",
       "Name: ItemRank, dtype: float64"
      ]
     },
     "execution_count": 5,
     "metadata": {},
     "output_type": "execute_result"
    }
   ],
   "source": [
    "rank = ds['ItemRank']\n",
    "rank.describe()"
   ]
  },
  {
   "cell_type": "markdown",
   "metadata": {},
   "source": [
    "The mean is rather high at __6.8__, with a standard deviation of __19.6__. If we look at the maximum value, we see that values of 500 are being reached. These are outliers. We perform binning for a more thorough understanding."
   ]
  },
  {
   "cell_type": "code",
   "execution_count": 6,
   "metadata": {},
   "outputs": [
    {
     "data": {
      "image/png": "[encoded data removed]",
      "text/plain": [
       "<matplotlib.figure.Figure at 0x7f492a856c50>"
      ]
     },
     "metadata": {},
     "output_type": "display_data"
    }
   ],
   "source": [
    "bins = [0, 1, 2, 3, 4, 5, 6, 7, 8, 9, 10, 20, 40, 60, 80, 100, 500]\n",
    "binnedRank = pd.cut(rank, bins)\n",
    "countRank = binnedRank.count()\n",
    "binnedRank = binnedRank.value_counts().sort_index()\n",
    "percentageRank = binnedRank / float(countRank) * 100\n",
    "percentageRank.plot()\n",
    "plt.show()"
   ]
  },
  {
   "cell_type": "code",
   "execution_count": 7,
   "metadata": {},
   "outputs": [
    {
     "name": "stdout",
     "output_type": "stream",
     "text": [
      "Percentage of people who found what they were looking for \n",
      "- in first result \t= 42.39\n",
      "- in top five results \t= 73.69\n",
      "- in first page \t= 89.8\n",
      "- in first 2 pages \t= 94.18\n"
     ]
    }
   ],
   "source": [
    "cumulativePercentageRank = binnedRank.cumsum()\n",
    "cumulativePercentageRank = cumulativePercentageRank / float(countRank) * 100\n",
    "cumulativePercentageRank = [ round(x, 2) for x in cumulativePercentageRank ]\n",
    "\n",
    "print \"Percentage of people who found what they were looking for \"\n",
    "print \"- in first result \\t= \" + str( cumulativePercentageRank[0] )\n",
    "print \"- in top five results \\t= \" + str( cumulativePercentageRank[4] )\n",
    "print \"- in first page \\t= \" + str( cumulativePercentageRank[9] )\n",
    "print \"- in first 2 pages \\t= \" + str( cumulativePercentageRank[10] )"
   ]
  },
  {
   "cell_type": "markdown",
   "metadata": {},
   "source": [
    "### Percentage of queries that were simply URLs\n",
    "\n",
    "One curious phenomenon observed in the dataset is that many users typed the URL name in the AOL search bar, rather than the respective browser's address bar. We seek to find just how many of the queries were such misplaced entries."
   ]
  },
  {
   "cell_type": "code",
   "execution_count": 8,
   "metadata": {},
   "outputs": [
    {
     "name": "stdout",
     "output_type": "stream",
     "text": [
      "18.08\n"
     ]
    }
   ],
   "source": [
    "queries = ds['Query']\n",
    "queries = queries.str.lower()\n",
    "countQueries = queries.count()\n",
    "\n",
    "typicalWebsiteName = r'(([a-z]{3})\\.)?([a-z]+)\\.([a-z]{2,3})'\n",
    "containsURL = queries.str.match(typicalWebsiteName)\n",
    "countURLQueries = containsURL[ containsURL == True ].count()\n",
    "\n",
    "percentageURLQueries = float(countURLQueries) / countQueries * 100\n",
    "print round(percentageURLQueries, 2)"
   ]
  },
  {
   "cell_type": "markdown",
   "metadata": {},
   "source": [
    "As we can see above, __18.08%__ of the queries submitted were simply to navigate to a particular webpage!"
   ]
  },
  {
   "cell_type": "markdown",
   "metadata": {},
   "source": [
    "### Average number of queries submitted by Users\n",
    "\n",
    "By knowing how many queries an average user submits, we can know the general reliance placed by the average user for searching items via AOL. "
   ]
  },
  {
   "cell_type": "code",
   "execution_count": 9,
   "metadata": {},
   "outputs": [
    {
     "data": {
      "text/plain": [
       "count    64942.000000\n",
       "mean        53.269379\n",
       "std        121.301427\n",
       "min          1.000000\n",
       "25%          5.000000\n",
       "50%         17.000000\n",
       "75%         51.000000\n",
       "max       3752.000000\n",
       "dtype: float64"
      ]
     },
     "execution_count": 9,
     "metadata": {},
     "output_type": "execute_result"
    }
   ],
   "source": [
    "countQueriesPerUser = ds.groupby('AnonID').size()\n",
    "countQueriesPerUser.describe()"
   ]
  },
  {
   "cell_type": "markdown",
   "metadata": {},
   "source": [
    "Thus, the average number of queries submitted over a period of 90 days is __53__, or approximately __3 queries every 5 days__."
   ]
  },
  {
   "cell_type": "markdown",
   "metadata": {},
   "source": [
    "### Most Popular Queries\n",
    "\n",
    "The queries that were most often searched for are listed below."
   ]
  },
  {
   "cell_type": "code",
   "execution_count": 10,
   "metadata": {},
   "outputs": [
    {
     "name": "stdout",
     "output_type": "stream",
     "text": [
      "google             32163\n",
      "yahoo              13646\n",
      "ebay               13075\n",
      "yahoo.com           8743\n",
      "mapquest            8719\n",
      "myspace.com         8587\n",
      "google.com          7985\n",
      "myspace             6877\n",
      "www.yahoo.com       4240\n",
      "internet            4207\n",
      "www.google.com      3981\n",
      "www.myspace.com     3034\n",
      "my space            3008\n",
      "ebay.com            2978\n",
      "map quest           2899\n",
      "http                2840\n",
      "weather             2676\n",
      "pogo                2307\n",
      "american idol       2279\n",
      "craigslist          2232\n",
      "Name: Query, dtype: int64\n"
     ]
    }
   ],
   "source": [
    "popularQueries = ds['Query'].value_counts()\n",
    "print popularQueries[0:20]"
   ]
  },
  {
   "cell_type": "markdown",
   "metadata": {},
   "source": [
    "## 3. Find user's interests\n",
    "\n",
    "The methodology that is adopted is equally applicable to any user, and does not change from user to user. Thus, for demonstration purposes, it is sufficient to showcase the method applied on a specific user.\n",
    "\n",
    "Ideally, such a user must have a large number of distinct queries so that we can extract a lot of information."
   ]
  },
  {
   "cell_type": "code",
   "execution_count": 11,
   "metadata": {},
   "outputs": [
    {
     "data": {
      "text/plain": [
       "AnonID\n",
       "2722     248\n",
       "4781     212\n",
       "6497     480\n",
       "8041     180\n",
       "13508    303\n",
       "dtype: int64"
      ]
     },
     "execution_count": 11,
     "metadata": {},
     "output_type": "execute_result"
    }
   ],
   "source": [
    "userAndQueries = ds[['AnonID', 'Query']]\n",
    "userAndQueries = userAndQueries.drop_duplicates(subset='Query')\n",
    "usersOfInterest = userAndQueries.groupby('AnonID').size()\n",
    "usersOfInterest.loc[ lambda s: s>150 ].head()"
   ]
  },
  {
   "cell_type": "markdown",
   "metadata": {},
   "source": [
    "We arbitrarily choose user ID __2722__. The number of queries generated are __248__. Some of the queries are listed below."
   ]
  },
  {
   "cell_type": "code",
   "execution_count": 12,
   "metadata": {},
   "outputs": [
    {
     "data": {
      "text/plain": [
       "570                                          charles drew\n",
       "574                                   national car rental\n",
       "575                                              military\n",
       "576                               military rental benfits\n",
       "577                              military rental benefits\n",
       "578                          military car rental benefits\n",
       "581                                        deers id cards\n",
       "582                                   deers id cards army\n",
       "583                                               tricare\n",
       "584                                  www.publixdirect.com\n",
       "586                                                publix\n",
       "590                                         waldrop hills\n",
       "595                                         sprint phones\n",
       "596                                                 fafsa\n",
       "597                                         georgia state\n",
       "598                                         clayton state\n",
       "599                                     georgia perimeter\n",
       "600                                            pin.ed.gov\n",
       "601                                               irs.gov\n",
       "602                                saint philiphs college\n",
       "603                                saint philip's college\n",
       "604      routing number for bank of america military bank\n",
       "606                              georgia state university\n",
       "607                                               ssa.gov\n",
       "608                                texas marriage lisence\n",
       "609                                texas marriage licence\n",
       "610                             georgia guardianship laws\n",
       "617                 georgia guardianship laws conservator\n",
       "618     georgia guardianship laws conservator dekalb c...\n",
       "619     georgia guardianship laws conservator dekalb c...\n",
       "                              ...                        \n",
       "1005                                  tucker cheerleading\n",
       "1006                       cheerleading in tucker georgia\n",
       "1007                                           cheer camp\n",
       "1008                                            ellenwood\n",
       "1011                                    microsoft adaware\n",
       "1015                                       gwinnett parks\n",
       "1017                                 meadow creek georgia\n",
       "1018                        meadow creek georgia football\n",
       "1019                  georgia youth football meadow creek\n",
       "1020    meadowcreek new mercies youth athletic associa...\n",
       "1021                          youth athletic associations\n",
       "1022             meadow creek youth athletic associations\n",
       "1023                  georgia youth athletic associations\n",
       "1029                                     city of norcross\n",
       "1033                                    lucky shoals park\n",
       "1036                                     best friend park\n",
       "1037                             best friend park georgia\n",
       "1039                              lucky shoals park youth\n",
       "1040                     greater atlanta christian school\n",
       "1042                                youth track and field\n",
       "1043                        youth track and field georgia\n",
       "1045                  cheerleading summer camp in georgia\n",
       "1049                                   gymnastics georgia\n",
       "1056                                           car rental\n",
       "1057                                                 ymca\n",
       "1058                                         autosave.com\n",
       "1059                                       enterprise.com\n",
       "1061                                  autosave car rental\n",
       "1062                                    budget car rental\n",
       "1063                                     alamo car rental\n",
       "Name: Query, Length: 248, dtype: object"
      ]
     },
     "execution_count": 12,
     "metadata": {},
     "output_type": "execute_result"
    }
   ],
   "source": [
    "# userAndQueries[ userAndQueries['AnonID'] == 13993001 ]\n",
    "user = userAndQueries[ userAndQueries['AnonID'] == 2722 ]\n",
    "querySet = user['Query']\n",
    "querySet"
   ]
  },
  {
   "cell_type": "markdown",
   "metadata": {},
   "source": [
    "Now, our end goal is to obtain the interest of the user. More specifically, we seek to calculate certain _tags_, or words of importance, which bear a high correlation with the interests of our user. \n",
    "\n",
    "To calculate these tags however, we need a much larger set of terms than just the query words. We resort to scraping the search results of `www.duckduckgo.com` and henceforth populating a dataset. DuckDuckGo was specifically chosen because\n",
    "- it allows for scraping, unlike Google\n",
    "- it does not consider demographic or any personal information while displaying results\n",
    "\n",
    "The latter is especially important so as to obtain unbiased results.\n"
   ]
  },
  {
   "cell_type": "code",
   "execution_count": null,
   "metadata": {},
   "outputs": [
    {
     "name": "stdout",
     "output_type": "stream",
     "text": [
      " Extracting result urls..."
     ]
    }
   ],
   "source": [
    "import search\n",
    "reload(search)\n",
    "\n",
    "queryList = querySet.tolist()\n",
    "search.searchAndStore(queryList, resultsPerQuery=4, savepath='../User2722/', saveURL=True)"
   ]
  },
  {
   "cell_type": "code",
   "execution_count": null,
   "metadata": {},
   "outputs": [],
   "source": []
  }
 ],
 "metadata": {
  "kernelspec": {
   "display_name": "Python 2",
   "language": "python",
   "name": "python2"
  },
  "language_info": {
   "codemirror_mode": {
    "name": "ipython",
    "version": 2
   },
   "file_extension": ".py",
   "mimetype": "text/x-python",
   "name": "python",
   "nbconvert_exporter": "python",
   "pygments_lexer": "ipython2",
   "version": "2.7.12"
  }
 },
 "nbformat": 4,
 "nbformat_minor": 2
}
